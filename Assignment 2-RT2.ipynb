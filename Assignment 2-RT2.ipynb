{
 "cells": [
  {
   "cell_type": "markdown",
   "id": "03371bc3",
   "metadata": {},
   "source": [
    "# Assignment 2 - RT2"
   ]
  },
  {
   "cell_type": "markdown",
   "id": "fc4ad0ce",
   "metadata": {},
   "source": [
    "Libraries:"
   ]
  },
  {
   "cell_type": "code",
   "execution_count": 1,
   "id": "33728c5a",
   "metadata": {
    "ExecuteTime": {
     "end_time": "2024-04-20T21:10:50.193793Z",
     "start_time": "2024-04-20T21:10:49.057500Z"
    }
   },
   "outputs": [],
   "source": [
    "import jupyros as jr\n",
    "import rospy\n",
    "import actionlib\n",
    "import actionlib.msg\n",
    "import assignment_2_2023\n",
    "import assignment_2_2023.msg\n",
    "\n",
    "import numpy as np\n",
    "import ipywidgets as widgets\n",
    "import matplotlib.pyplot as plt\n",
    "\n",
    "from geometry_msgs.msg import Point, Pose, Twist\n",
    "from nav_msgs.msg import Odometry\n",
    "from assignment_2_2023.msg import RobotMsg\n",
    "from matplotlib.animation import FuncAnimation\n",
    "\n",
    "%matplotlib widget"
   ]
  },
  {
   "cell_type": "code",
   "execution_count": 2,
   "id": "41a1d7e2",
   "metadata": {
    "ExecuteTime": {
     "end_time": "2024-04-20T21:10:50.204196Z",
     "start_time": "2024-04-20T21:10:50.197972Z"
    }
   },
   "outputs": [],
   "source": [
    "goals_cancelled = 0\n",
    "goals_reached = 0 \n",
    "cancelled = False \n",
    "goal = None"
   ]
  },
  {
   "cell_type": "markdown",
   "id": "6ad7aa74",
   "metadata": {},
   "source": [
    "Odometry callback function:"
   ]
  },
  {
   "cell_type": "code",
   "execution_count": 3,
   "id": "44eb9d08",
   "metadata": {
    "ExecuteTime": {
     "end_time": "2024-04-20T21:10:50.216303Z",
     "start_time": "2024-04-20T21:10:50.210489Z"
    }
   },
   "outputs": [],
   "source": [
    "def callback_odom(msg):\n",
    "    global pub\n",
    "\n",
    "    my_custom_msg = RobotMsg()\n",
    "    \n",
    "    my_custom_msg.x = msg.pose.pose.position.x\n",
    "    my_custom_msg.y = msg.pose.pose.position.y\n",
    "    my_custom_msg.vel_x = msg.twist.twist.linear.x\n",
    "    my_custom_msg.vel_y = msg.twist.twist.linear.y\n",
    "    \n",
    "    if not rospy.is_shutdown():\n",
    "        pub.publish(my_custom_msg)"
   ]
  },
  {
   "cell_type": "markdown",
   "id": "da224557",
   "metadata": {},
   "source": [
    "Send the robot to the goal function:"
   ]
  },
  {
   "cell_type": "code",
   "execution_count": 4,
   "id": "30deda27",
   "metadata": {
    "ExecuteTime": {
     "end_time": "2024-04-20T21:10:50.235199Z",
     "start_time": "2024-04-20T21:10:50.223830Z"
    }
   },
   "outputs": [],
   "source": [
    "def callback_send(msg):\n",
    "    global cancelled, goal\n",
    "    goal = assignment_2_2023.msg.PlanningGoal()\n",
    "    goal.target_pose.pose.position.x = x.value\n",
    "    goal.target_pose.pose.position.y = y.value\n",
    "    cancelled = False\n",
    "    client.send_goal(goal)"
   ]
  },
  {
   "cell_type": "markdown",
   "id": "7b21241a",
   "metadata": {},
   "source": [
    "Cancel function:"
   ]
  },
  {
   "cell_type": "code",
   "execution_count": 5,
   "id": "beab90eb",
   "metadata": {
    "ExecuteTime": {
     "end_time": "2024-04-20T21:10:50.248394Z",
     "start_time": "2024-04-20T21:10:50.238760Z"
    }
   },
   "outputs": [],
   "source": [
    "def callback_cancel(msg):\n",
    "    global cancelled, goal \n",
    "    goal = None\n",
    "    cancelled = True\n",
    "    client.cancel_goal()"
   ]
  },
  {
   "cell_type": "markdown",
   "id": "e8f56335",
   "metadata": {
    "ExecuteTime": {
     "end_time": "2024-04-06T12:09:52.984760Z",
     "start_time": "2024-04-06T12:09:52.976927Z"
    }
   },
   "source": [
    "Define Buttons for Selecting the mode:"
   ]
  },
  {
   "cell_type": "code",
   "execution_count": 6,
   "id": "90d42f0a",
   "metadata": {
    "ExecuteTime": {
     "end_time": "2024-04-20T21:10:50.288287Z",
     "start_time": "2024-04-20T21:10:50.253404Z"
    }
   },
   "outputs": [],
   "source": [
    "send_goal = widgets.Button(value = False, description = \"Set the Target\",\n",
    "                                  disabled = False, button_style = '')\n",
    "\n",
    "cancel_goal = widgets.Button(value = False, description = \"Cancel the Target\", \n",
    "                                    disabled = False, button_style = '')"
   ]
  },
  {
   "cell_type": "code",
   "execution_count": 7,
   "id": "2138f6ee",
   "metadata": {
    "ExecuteTime": {
     "end_time": "2024-04-20T21:10:50.297073Z",
     "start_time": "2024-04-20T21:10:50.291994Z"
    }
   },
   "outputs": [],
   "source": [
    "send_goal.on_click(callback_send)\n",
    "cancel_goal.on_click(callback_cancel)"
   ]
  },
  {
   "cell_type": "markdown",
   "id": "c49a142d",
   "metadata": {},
   "source": [
    "Define widgets as input to set the target:"
   ]
  },
  {
   "cell_type": "code",
   "execution_count": 8,
   "id": "46120f61",
   "metadata": {
    "ExecuteTime": {
     "end_time": "2024-04-20T21:10:50.318384Z",
     "start_time": "2024-04-20T21:10:50.300552Z"
    }
   },
   "outputs": [],
   "source": [
    "x = widgets.BoundedFloatText(value = 0.0, description = 'x', min = -9.0, max = 9.0,\n",
    "                            style = {'description_width': 'initial'}, step = 0.1, \n",
    "                            layout = widgets.Layout(width = '100px'))\n",
    "y = widgets.BoundedFloatText(value = 0.0, description = 'y', min = -9.0, max = 9.0,\n",
    "                            style = {'description_width': 'initial'}, step = 0.1, \n",
    "                            layout = widgets.Layout(width = '100px'))"
   ]
  },
  {
   "cell_type": "markdown",
   "id": "5d3dfba7",
   "metadata": {},
   "source": [
    "The interface for the position of the robot:"
   ]
  },
  {
   "cell_type": "code",
   "execution_count": 9,
   "id": "c1bdcd9d",
   "metadata": {
    "ExecuteTime": {
     "end_time": "2024-04-20T21:10:50.334098Z",
     "start_time": "2024-04-20T21:10:50.320994Z"
    }
   },
   "outputs": [],
   "source": [
    "class Odom_Interface:\n",
    "    def __init__(self):\n",
    "        self.fig_odom, self.ax = plt.subplots()\n",
    "        # Robot Position Plot\n",
    "        self.ln, = plt.plot([], [], 'ro', label = 'Robot Position')\n",
    "        # Target's Position Plot\n",
    "        self.goal_ln, = plt.plot([], [], 'b*', markersize = 10, label = 'Robot Goal Position')\n",
    "        # Robot's Position Data Arrays\n",
    "        self.x_data, self.y_data = [], []\n",
    "        \n",
    "    def plot_init(self):\n",
    "        # Set Plot Title\n",
    "        self.ax.set_title(\"Robot Position\", fontsize = 15, fontweight = 'bold')\n",
    "        # Set Plot Axis Labels\n",
    "        self.ax.set_xlabel(\"X [m]\", fontsize = 10, fontweight = \"bold\")\n",
    "        self.ax.set_ylabel(\"Y [m]\", fontsize = 10, fontweight = \"bold\")\n",
    "        # Set Plot Axis Limits\n",
    "        self.ax.set_xlim(-15, 15)\n",
    "        self.ax.set_ylim(-15, 15)\n",
    "        # Set Grid to True\n",
    "        self.ax.grid(True)\n",
    "        return self.ln, self.goal_ln\n",
    "    \n",
    "    def odom_callback(self, msg):\n",
    "        # Callback Function used to update data\n",
    "        self.y_data.append(msg.pose.pose.position.y)\n",
    "        self.x_data.append(msg.pose.pose.position.x)         \n",
    "        \n",
    "    def update_plot(self, frame):\n",
    "        # Update Robot's Position on plot\n",
    "        self.ln.set_data(self.x_data, self.y_data)  \n",
    "        \n",
    "        if cancelled: \n",
    "            self.goal_ln.set_data([], [])\n",
    "        elif goal is not None:\n",
    "            self.goal_ln.set_data(goal.target_pose.pose.position.x, goal.target_pose.pose.position.y)\n",
    "        else:\n",
    "            self.goal_ln.set_data([], [])\n",
    "        \n",
    "        return self.ln, self.goal_ln"
   ]
  },
  {
   "cell_type": "markdown",
   "id": "7c8fdf04",
   "metadata": {},
   "source": [
    "The interface to count the number of the targets that have been set and cancelled:"
   ]
  },
  {
   "cell_type": "code",
   "execution_count": 10,
   "id": "6f9fb5f6",
   "metadata": {
    "ExecuteTime": {
     "end_time": "2024-04-20T21:10:50.355140Z",
     "start_time": "2024-04-20T21:10:50.344506Z"
    }
   },
   "outputs": [],
   "source": [
    "class Goal_Interface:\n",
    "    def __init__(self):\n",
    "        self.fig, self.ax = plt.subplots()\n",
    "        # Setting up the values\n",
    "        self.reached = 0\n",
    "        self.cancelled = 0\n",
    "        # Set Plot Title\n",
    "        self.ax.set_title(\"Reached & Cancelled Goals\", fontsize = 15, fontweight = \"bold\")\n",
    "        \n",
    "        self.ax.grid(axis = 'y', color = 'grey', linestyle = '-', alpha = 0.3)\n",
    "        # Set Plot Labels on x-axis\n",
    "        self.labels = ('Reached', 'Cancelled')\n",
    "        self.x_pos = np.arange(len(self.labels))\n",
    "        self.ax.set_xticks(self.x_pos)\n",
    "        self.ax.set_xticklabels(self.labels)\n",
    "        # Set Plot Axis Limits\n",
    "        self.ax.set_ylim([0, 20])\n",
    "        self.ax.set_yticks(np.arange(0, 21, 1))\n",
    "        self.bar_colors = ['green', 'red']\n",
    "        self.bar_plot = self.ax.bar(self.x_pos, [self.reached, self.cancelled], align = 'center', color = self.bar_colors, width = 0.2)\n",
    "\n",
    "    def goal_callback(self, msg):\n",
    "        # Get the number of reached/cancelled goals\n",
    "        global goals_cancelled, goals_reached\n",
    "        if msg.status.status == 3:\n",
    "            self.reached += 1\n",
    "        elif msg.status.status == 2:\n",
    "            self.cancelled += 1 \n",
    "\n",
    "    def update_plot(self, frame):\n",
    "        self.green_val = np.random.randint(0,100)\n",
    "        self.red_val = np.random.randint(0,100)\n",
    "        \n",
    "        for i, bar in enumerate(self.bar_plot):\n",
    "            if i == 0:\n",
    "                bar.set_height(self.reached)\n",
    "            else:\n",
    "                bar.set_height(self.cancelled)\n",
    "            bar.set_color(self.bar_colors[i])\n",
    "        return self.bar_plot"
   ]
  },
  {
   "cell_type": "markdown",
   "id": "d0b874b9",
   "metadata": {
    "ExecuteTime": {
     "end_time": "2024-04-06T19:58:38.332994Z",
     "start_time": "2024-04-06T19:58:38.321378Z"
    }
   },
   "source": [
    "Initialization:"
   ]
  },
  {
   "cell_type": "code",
   "execution_count": 11,
   "id": "ae13c76d",
   "metadata": {
    "ExecuteTime": {
     "end_time": "2024-04-20T21:10:50.735188Z",
     "start_time": "2024-04-20T21:10:50.358356Z"
    }
   },
   "outputs": [
    {
     "data": {
      "text/plain": [
       "True"
      ]
     },
     "execution_count": 11,
     "metadata": {},
     "output_type": "execute_result"
    }
   ],
   "source": [
    "rospy.init_node('jupyter_notebook')\n",
    "pub = rospy.Publisher(\"/pos_vel\", RobotMsg, queue_size = 1)\n",
    "client = actionlib.SimpleActionClient('/reaching_goal', assignment_2_2023.msg.PlanningAction)\n",
    "client.wait_for_server()"
   ]
  },
  {
   "cell_type": "markdown",
   "id": "f217530a",
   "metadata": {},
   "source": [
    "Using widgets:"
   ]
  },
  {
   "cell_type": "code",
   "execution_count": 12,
   "id": "7f519063",
   "metadata": {
    "ExecuteTime": {
     "end_time": "2024-04-20T21:10:50.773058Z",
     "start_time": "2024-04-20T21:10:50.739609Z"
    }
   },
   "outputs": [
    {
     "data": {
      "application/vnd.jupyter.widget-view+json": {
       "model_id": "1ec13a118e6a4c4cbf69204bd56ee2ec",
       "version_major": 2,
       "version_minor": 0
      },
      "text/plain": [
       "HBox(children=(BoundedFloatText(value=0.0, description='x', layout=Layout(width='100px'), max=9.0, min=-9.0, s…"
      ]
     },
     "metadata": {},
     "output_type": "display_data"
    },
    {
     "data": {
      "application/vnd.jupyter.widget-view+json": {
       "model_id": "d093707af2e8433cb0526a39894cea1e",
       "version_major": 2,
       "version_minor": 0
      },
      "text/plain": [
       "HBox(children=(Button(description='Set the Target', style=ButtonStyle()), Button(description='Cancel the Targe…"
      ]
     },
     "metadata": {},
     "output_type": "display_data"
    }
   ],
   "source": [
    "display(widgets.HBox([x, y]))\n",
    "display(widgets.HBox([send_goal, cancel_goal]))"
   ]
  },
  {
   "cell_type": "markdown",
   "id": "f4b89e2a",
   "metadata": {
    "ExecuteTime": {
     "end_time": "2024-04-06T19:58:39.048048Z",
     "start_time": "2024-04-06T19:58:38.787614Z"
    }
   },
   "source": [
    "Plot the number of the targets that have been set and cancelled:"
   ]
  },
  {
   "cell_type": "code",
   "execution_count": 13,
   "id": "9f31af57",
   "metadata": {
    "ExecuteTime": {
     "end_time": "2024-04-20T21:10:50.864012Z",
     "start_time": "2024-04-20T21:10:50.778999Z"
    }
   },
   "outputs": [
    {
     "data": {
      "application/vnd.jupyter.widget-view+json": {
       "model_id": "dd9c35cc146949739f5036ae2c1d7ffd",
       "version_major": 2,
       "version_minor": 0
      },
      "text/plain": [
       "Canvas(toolbar=Toolbar(toolitems=[('Home', 'Reset original view', 'home', 'home'), ('Back', 'Back to previous …"
      ]
     },
     "metadata": {},
     "output_type": "display_data"
    }
   ],
   "source": [
    "goals_plot = Goal_Interface()\n",
    "results = rospy.Subscriber('/reaching_goal/result', assignment_2_2023.msg.PlanningActionResult, goals_plot.goal_callback)\n",
    "\n",
    "animation_goal = FuncAnimation(goals_plot.fig, goals_plot.update_plot, interval = 1000)\n",
    "plt.show(block = True)"
   ]
  },
  {
   "cell_type": "markdown",
   "id": "86f489ad",
   "metadata": {},
   "source": [
    "Plot the robot position:"
   ]
  },
  {
   "cell_type": "code",
   "execution_count": 14,
   "id": "dc7ad122",
   "metadata": {
    "ExecuteTime": {
     "end_time": "2024-04-20T21:10:50.937690Z",
     "start_time": "2024-04-20T21:10:50.872061Z"
    }
   },
   "outputs": [
    {
     "data": {
      "application/vnd.jupyter.widget-view+json": {
       "model_id": "c390ff12b34049cda818d641b202e289",
       "version_major": 2,
       "version_minor": 0
      },
      "text/plain": [
       "Canvas(toolbar=Toolbar(toolitems=[('Home', 'Reset original view', 'home', 'home'), ('Back', 'Back to previous …"
      ]
     },
     "metadata": {},
     "output_type": "display_data"
    }
   ],
   "source": [
    "position_plot = Odom_Interface()\n",
    "sub = rospy.Subscriber('/odom', Odometry, position_plot.odom_callback)\n",
    "\n",
    "animation_pos = FuncAnimation(position_plot.fig_odom, position_plot.update_plot, init_func = position_plot.plot_init)\n",
    "plt.show(block = True)"
   ]
  }
 ],
 "metadata": {
  "hide_input": false,
  "kernelspec": {
   "display_name": "Python 3 (ipykernel)",
   "language": "python",
   "name": "python3"
  },
  "language_info": {
   "codemirror_mode": {
    "name": "ipython",
    "version": 3
   },
   "file_extension": ".py",
   "mimetype": "text/x-python",
   "name": "python",
   "nbconvert_exporter": "python",
   "pygments_lexer": "ipython3",
   "version": "3.8.5"
  },
  "toc": {
   "base_numbering": 1,
   "nav_menu": {},
   "number_sections": true,
   "sideBar": true,
   "skip_h1_title": false,
   "title_cell": "Table of Contents",
   "title_sidebar": "Contents",
   "toc_cell": false,
   "toc_position": {},
   "toc_section_display": true,
   "toc_window_display": false
  },
  "varInspector": {
   "cols": {
    "lenName": 16,
    "lenType": 16,
    "lenVar": 40
   },
   "kernels_config": {
    "python": {
     "delete_cmd_postfix": "",
     "delete_cmd_prefix": "del ",
     "library": "var_list.py",
     "varRefreshCmd": "print(var_dic_list())"
    },
    "r": {
     "delete_cmd_postfix": ") ",
     "delete_cmd_prefix": "rm(",
     "library": "var_list.r",
     "varRefreshCmd": "cat(var_dic_list()) "
    }
   },
   "types_to_exclude": [
    "module",
    "function",
    "builtin_function_or_method",
    "instance",
    "_Feature"
   ],
   "window_display": false
  }
 },
 "nbformat": 4,
 "nbformat_minor": 5
}
